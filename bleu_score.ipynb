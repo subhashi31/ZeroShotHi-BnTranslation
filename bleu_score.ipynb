{
  "nbformat": 4,
  "nbformat_minor": 0,
  "metadata": {
    "colab": {
      "provenance": [],
      "authorship_tag": "ABX9TyNAN5+yeGPgVT1YQV7QxJHG"
    },
    "kernelspec": {
      "name": "python3",
      "display_name": "Python 3"
    },
    "language_info": {
      "name": "python"
    }
  },
  "cells": [
    {
      "cell_type": "code",
      "source": [
        "import json"
      ],
      "metadata": {
        "id": "hzamPUZzQmM9"
      },
      "execution_count": null,
      "outputs": []
    },
    {
      "cell_type": "code",
      "source": [
        "from google.colab import files\n",
        "uploaded = files.upload()"
      ],
      "metadata": {
        "id": "cidxB__zOuYg"
      },
      "execution_count": null,
      "outputs": []
    },
    {
      "cell_type": "code",
      "source": [
        "# Read input dataset from JSON\n",
        "with open('chatgpt_hibn.json', 'r', encoding='utf-8') as file:\n",
        "  translation_dataset = json.load(file)"
      ],
      "metadata": {
        "id": "LPdeOYCrQKLa"
      },
      "execution_count": null,
      "outputs": []
    },
    {
      "cell_type": "code",
      "source": [
        "# Read input dataset from JSON\n",
        "with open('hibn.json', 'r', encoding='utf-8') as file:\n",
        "  references_dataset = json.load(file)"
      ],
      "metadata": {
        "id": "zeFd9IO9QwLT"
      },
      "execution_count": null,
      "outputs": []
    },
    {
      "cell_type": "code",
      "source": [
        "print(translation_dataset[0])\n",
        "print(references_dataset[0])"
      ],
      "metadata": {
        "colab": {
          "base_uri": "https://localhost:8080/"
        },
        "id": "7Szs9MjVQ2d2",
        "outputId": "869ad326-4cae-4d5b-e313-813799dd9966"
      },
      "execution_count": null,
      "outputs": [
        {
          "output_type": "stream",
          "name": "stdout",
          "text": [
            "{'hi': 'प्रधानमंत्री श्री नरेन्द्र मोदी आज नीदरलैंड साम्राज्य की महारानी महामहिम मैक्सिमा से मिले।', 'bn': 'প্রধানমন্ত্রী শ্রী নরেন্দ্র মোদী আজ নেদারল্যান্ড সাম্রাজ্যের মহারানী মহামহিম মাক্সিমা সেখানে মিলেন।'}\n",
            "{'hi': 'प्रधानमंत्री श्री नरेन्द्र मोदी आज नीदरलैंड साम्राज्य की महारानी महामहिम मैक्सिमा से मिले।', 'bn': 'নতুন দিল্লিতে সোমবার প্রধানমন্ত্রী শ্রী নরেন্দ্র মোদীর সঙ্গে নেদারন্যান্ডসের মহারানী ম্যাক্সিমা সাক্ষাৎ করেন।'}\n"
          ]
        }
      ]
    },
    {
      "cell_type": "code",
      "source": [
        "# Prepare references for BLEU score calculation\n",
        "references = [sample['bn'] for sample in references_dataset]"
      ],
      "metadata": {
        "id": "_aOqXNDQQFXZ"
      },
      "execution_count": null,
      "outputs": []
    },
    {
      "cell_type": "code",
      "source": [
        "# translations\n",
        "translations = [sample['bn'] for sample in translation_dataset]"
      ],
      "metadata": {
        "id": "bbD-4ORENBGo"
      },
      "execution_count": null,
      "outputs": []
    },
    {
      "cell_type": "code",
      "source": [
        "print(translations[0])\n",
        "print(references[0])"
      ],
      "metadata": {
        "colab": {
          "base_uri": "https://localhost:8080/"
        },
        "id": "7NkFcBoPRtPQ",
        "outputId": "a225e6b2-ff97-406c-b702-289ab71f141f"
      },
      "execution_count": null,
      "outputs": [
        {
          "output_type": "stream",
          "name": "stdout",
          "text": [
            "প্রধানমন্ত্রী শ্রী নরেন্দ্র মোদী আজ নেদারল্যান্ড সাম্রাজ্যের মহারানী মহামহিম মাক্সিমা সেখানে মিলেন।\n",
            "নতুন দিল্লিতে সোমবার প্রধানমন্ত্রী শ্রী নরেন্দ্র মোদীর সঙ্গে নেদারন্যান্ডসের মহারানী ম্যাক্সিমা সাক্ষাৎ করেন।\n"
          ]
        }
      ]
    },
    {
      "cell_type": "code",
      "execution_count": null,
      "metadata": {
        "id": "xJUQrCMEMxds"
      },
      "outputs": [],
      "source": [
        "# Calculate corpus BLEU score\n",
        "from nltk.translate.bleu_score import corpus_bleu\n",
        "bleu_score = corpus_bleu(references, translations)\n",
        "print(\"BLEU Score:\", bleu_score)"
      ]
    },
    {
      "cell_type": "code",
      "source": [
        "!pip install datasets"
      ],
      "metadata": {
        "id": "uwhHAd2XewpT"
      },
      "execution_count": null,
      "outputs": []
    },
    {
      "cell_type": "code",
      "source": [
        "from datasets import load_metric\n",
        "\n",
        "bleu = load_metric(\"bleu\")\n",
        "\n",
        "sum_bleu = 0\n",
        "for sent in range(0, len(translations)):\n",
        "  pred = [[i for i in translations[sent]]]\n",
        "  ref = [[[i for i in references[sent]]]]\n",
        "  score = bleu.compute(predictions = pred, references = ref)\n",
        "  sum_bleu = sum_bleu + score['bleu']\n",
        "  print(score)\n",
        "\n",
        "print(sum_bleu)\n",
        "print(sum_bleu/100)"
      ],
      "metadata": {
        "id": "h6ZE8vsje8ek"
      },
      "execution_count": null,
      "outputs": []
    }
  ]
}