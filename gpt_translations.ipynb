{
  "nbformat": 4,
  "nbformat_minor": 0,
  "metadata": {
    "colab": {
      "provenance": [],
      "authorship_tag": "ABX9TyNnUcPBW9A0ytrorQHCUQf8"
    },
    "kernelspec": {
      "name": "python3",
      "display_name": "Python 3"
    },
    "language_info": {
      "name": "python"
    }
  },
  "cells": [
    {
      "cell_type": "code",
      "source": [
        "!pip install openai"
      ],
      "metadata": {
        "id": "Bf7v-qHczakr"
      },
      "execution_count": null,
      "outputs": []
    },
    {
      "cell_type": "code",
      "execution_count": null,
      "metadata": {
        "id": "2NLw4zJgzYaU"
      },
      "outputs": [],
      "source": [
        "import openai\n",
        "import pandas as pd\n",
        "import json\n",
        "import os\n",
        "import time"
      ]
    },
    {
      "cell_type": "code",
      "source": [
        "from google.colab import files\n",
        "uploaded = files.upload()"
      ],
      "metadata": {
        "id": "RH2dQNaB0upn"
      },
      "execution_count": null,
      "outputs": []
    },
    {
      "cell_type": "code",
      "source": [
        "# Set your OpenAI API key here\n",
        "openai.api_key = ''"
      ],
      "metadata": {
        "id": "9-HMeW_uzk-T"
      },
      "execution_count": null,
      "outputs": []
    },
    {
      "cell_type": "code",
      "source": [
        "def translate_hindi_to_bengali(hindi_sentence):\n",
        "    prompt = f\"Translate the following text to Bengali: {hindi_sentence}\"\n",
        "    response = openai.completions.create(\n",
        "        #engine=\"davinci\",\n",
        "        model=\"gpt-3.5-turbo-instruct\",\n",
        "        prompt=prompt,\n",
        "        max_tokens=500,\n",
        "        temperature=0.7,\n",
        "        #top_p=1,\n",
        "        #frequency_penalty=0,\n",
        "        #presence_penalty=0,\n",
        "        stop=None\n",
        "    )\n",
        "    return response.choices[0].text.strip()"
      ],
      "metadata": {
        "id": "HCiQoOVOzpeP"
      },
      "execution_count": null,
      "outputs": []
    },
    {
      "cell_type": "code",
      "source": [
        "# Translated sentences appended\n",
        "translated_sentences_appended = []"
      ],
      "metadata": {
        "id": "zhBCGaOfSPfn"
      },
      "execution_count": null,
      "outputs": []
    },
    {
      "cell_type": "code",
      "source": [
        "text = \"प्रधानमंत्री श्री नरेन्द्र मोदी आज नीदरलैंड साम्राज्य की महारानी महामहिम मैक्सिमा से मिले।\"\n",
        "trans = translate_hindi_to_bengali(text)\n",
        "translated_sentences_appended.append(trans)\n",
        "print(trans)"
      ],
      "metadata": {
        "colab": {
          "base_uri": "https://localhost:8080/"
        },
        "id": "P5ZC3V5o-k-P",
        "outputId": "c2a5136a-5294-434f-cc52-7d499d10bf25"
      },
      "execution_count": null,
      "outputs": [
        {
          "output_type": "stream",
          "name": "stdout",
          "text": [
            "প্রধানমন্ত্রী শ্রী নরেন্দ্র মোদী আজ নেদারল্যান্ড রাজধানীর মহারানী মহামহিম ম্যাক্সিমা দিদি সঙ্গে মিললেন।\n"
          ]
        }
      ]
    },
    {
      "cell_type": "code",
      "source": [
        "text = \"महारानी मैक्सिमा विकास के लिए समावेशी वित्त के लिए संयुक्त राष्ट्र महासचिव के विशेष दूत के रूप में भारत की यात्रा पर हैं।\"\n",
        "trans = translate_hindi_to_bengali(text)\n",
        "translated_sentences_appended.append(trans)\n",
        "print(trans)"
      ],
      "metadata": {
        "id": "BMpqKroENcAD"
      },
      "execution_count": null,
      "outputs": []
    },
    {
      "cell_type": "code",
      "source": [
        "# Initialize translated_sentences as a global list\n",
        "translated_sentences = []"
      ],
      "metadata": {
        "id": "g8PrLC3DISe5"
      },
      "execution_count": null,
      "outputs": []
    },
    {
      "cell_type": "code",
      "source": [
        "print(translated_sentences)"
      ],
      "metadata": {
        "colab": {
          "base_uri": "https://localhost:8080/"
        },
        "id": "q-jVQlnyRx0d",
        "outputId": "b89fe485-e99e-4c5e-9985-dc56dbdcc92c"
      },
      "execution_count": null,
      "outputs": [
        {
          "output_type": "stream",
          "name": "stdout",
          "text": [
            "[{'hi': 'प्रधानमंत्री श्री नरेन्द्र मोदी आज नीदरलैंड साम्राज्य की महारानी महामहिम मैक्सिमा से मिले।', 'bn': 'প্রধানমন্ত্রী শ্রী নরেন্দ্র মোদি আজ নেদারল্যান্ড সাম্রাজ্যের মহারানী মহামহিম ম্যাক্সিমা সঙ্গে মিললেন।'}]\n"
          ]
        }
      ]
    },
    {
      "cell_type": "code",
      "source": [
        "def main(input_dataset_path, output_dataset_path):\n",
        "    # Read input dataset from JSON\n",
        "    with open(input_dataset_path, 'r', encoding='utf-8') as file:\n",
        "        hindi_dataset = json.load(file)\n",
        "\n",
        "    # Translate each Hindi sentence to Bengali\n",
        "    global translated_sentences\n",
        "    for item in hindi_dataset:\n",
        "        hindi_sentence = item['hi']\n",
        "        bengali_translation = translate_hindi_to_bengali(hindi_sentence)\n",
        "        translated_sentences.append({'hi': hindi_sentence, 'bn': bengali_translation})\n",
        "\n",
        "    # Create the directory if it doesn't exist\n",
        "    os.makedirs(os.path.dirname(output_dataset_path), exist_ok=True)\n",
        "\n",
        "    # Create a new dataset with translated sentences\n",
        "    translated_dataset = pd.DataFrame(translated_sentences)\n",
        "\n",
        "    # Save the translated dataset as JSON\n",
        "    translated_dataset.to_json(output_dataset_path, orient='records', force_ascii=False)"
      ],
      "metadata": {
        "id": "bkt8nuPEzwY8"
      },
      "execution_count": null,
      "outputs": []
    },
    {
      "cell_type": "code",
      "source": [
        "if __name__ == \"__main__\":\n",
        "    input_dataset_path = 'hibn.json'\n",
        "    output_dataset_path = 'output_dataset.json'\n",
        "    main(input_dataset_path, output_dataset_path)"
      ],
      "metadata": {
        "id": "ggCNDpReznxL"
      },
      "execution_count": null,
      "outputs": []
    }
  ]
}